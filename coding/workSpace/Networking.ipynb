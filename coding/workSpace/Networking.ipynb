{
 "cells": [
  {
   "cell_type": "markdown",
   "metadata": {},
   "source": [
    "# Setting up ESP8266 WiFi using MicroPython\n",
    "In this notebook we will discuss how to prepare and use the ESP8266 WiFi. The python commands used in this notebook may not work on any machine but they are guaranteed to work on an ESP8266 microcontroller with MicroPython firmware.\n",
    "\n",
    "**Contents:**\n",
    "<I>\n",
    "1. Importing the necessary packages\n",
    "2. Setting up WiFi as access point (Server)\n",
    "3. Setting up WiFi as station (Client)\n",
    "4. Socket types\n",
    "5. Creating a socket (Server)\n",
    "6. Creating a socket (Client)\n",
    "7. Define the response web page\n",
    "8. Sending and receiving data\n",
    "</I>"
   ]
  },
  {
   "cell_type": "markdown",
   "metadata": {},
   "source": [
    "## Access point interface\n",
    "### Importing necessary packages\n",
    "In this section we import the packages needed to access the ESP8266 built-in WiFi\n",
    "Required packages:\n",
    "- usocket/socket\n",
    "- network"
   ]
  },
  {
   "cell_type": "code",
   "execution_count": null,
   "metadata": {},
   "outputs": [],
   "source": [
    "try:\n",
    "    import usocket as socket  # try to import usocket\n",
    "except:\n",
    "    import socket             # if usocket was not found, import socket instead\n",
    "import network                # import the network library\n",
    "import gc                     # import garbage collector\n",
    "gc.collect()"
   ]
  },
  {
   "cell_type": "markdown",
   "metadata": {},
   "source": [
    "### Setting up WiFi as an access point (server.)\n",
    "In this section we set up the ESP8266 by: First, starting WLAN acess point interface. Then, activating and configuring the credentials. Finally, we wait for the access point to be activated then proceed."
   ]
  },
  {
   "cell_type": "code",
   "execution_count": null,
   "metadata": {},
   "outputs": [],
   "source": [
    "# hold your network credentials\n",
    "ssid = 'myNetworkName'\n",
    "password = 'myPassword'\n",
    "\n",
    "ap = network.WLAN(network.AP_IF)          # start WLAN access point interface\n",
    "ap.active(True)                           # activate the access point\n",
    "ap.config(essid=ssid, password=password)  # configure the SSID and Password\n",
    "\n",
    "# wait for connection\n",
    "while ap.active() == False:\n",
    "    pass"
   ]
  },
  {
   "cell_type": "markdown",
   "metadata": {},
   "source": [
    "### Setting up WiFi as a station (client.)\n",
    "In this section we set up the ESP8266 by: First, starting WLAN station interface. Then, activating and connecting to the network. Finally, we wait for the connection to be activated then proceed."
   ]
  },
  {
   "cell_type": "code",
   "execution_count": null,
   "metadata": {},
   "outputs": [],
   "source": [
    "ssid = 'myNetworkName'\n",
    "password = 'myPassword'\n",
    "\n",
    "station = network.WLAN(network.STA_IF)  # start WLAN station interface\n",
    "station.active(True)                    # activate the station\n",
    "station.connect(ssid, password)         # connect through the SSID and Password\n",
    "\n",
    "# wait for connection\n",
    "while station.isconnected() == False:\n",
    "    pass"
   ]
  },
  {
   "cell_type": "markdown",
   "metadata": {},
   "source": [
    "### Socket types\n",
    "![socket-server image](socket-server.webp)"
   ]
  },
  {
   "cell_type": "markdown",
   "metadata": {},
   "source": [
    "### Creating a socket (Server.)"
   ]
  },
  {
   "cell_type": "code",
   "execution_count": null,
   "metadata": {},
   "outputs": [],
   "source": [
    "s = socket.socket(socket.AF_INET, socket.SOCK_STREAM)\n",
    "s.bind(('', 80))  # bind the socket to an address\n",
    "s.listen(5)       # enable the server to accept connections"
   ]
  },
  {
   "cell_type": "markdown",
   "metadata": {},
   "source": [
    "### Creating a socket (Client.)\n"
   ]
  },
  {
   "cell_type": "code",
   "execution_count": null,
   "metadata": {},
   "outputs": [],
   "source": [
    "address = 127.0.0.1\n",
    "\n",
    "s = socket.socket(socket.AF_INET, socket.SOCK_STREAM)\n",
    "s.connect((address, 80))  # enable the server to accept connections"
   ]
  },
  {
   "cell_type": "markdown",
   "metadata": {},
   "source": [
    "### Define the response web page\n",
    "Here we define a function that returns an HTML web page that will be sent in response to incoming data."
   ]
  },
  {
   "cell_type": "code",
   "execution_count": null,
   "metadata": {},
   "outputs": [],
   "source": [
    "def web_page(req):  \n",
    "    html = \"\"\"<html>\n",
    "    <head>\n",
    "        <meta name=\"viewport\" content=\"width=device-width, initial-scale=1\"><meta http-equiv=\"refresh\" content=\"1\">\n",
    "    </head>\n",
    "    <body>\n",
    "        <p><strong>\"\"\" + req + \"\"\"</strong></p>\n",
    "    </body>\n",
    "    </html>\"\"\"\n",
    "\n",
    "    return html"
   ]
  },
  {
   "cell_type": "markdown",
   "metadata": {},
   "source": [
    "### Sending and receiving data\n",
    "In this section we will create a loop where the access point accepts a connection and when a client connects, the server accepts the connection, then, saves a new socket object to accept and send data on the `conn` variable, and saves the client address to connect to the server on the `addr` variable, then receive data and reply with the web page we defined above."
   ]
  },
  {
   "cell_type": "code",
   "execution_count": null,
   "metadata": {},
   "outputs": [],
   "source": [
    "# server\n",
    "while True:\n",
    "    conn, addr = s.accept()\n",
    "    conn.settimeout(3.0)\n",
    "    request = conn.recv(1024)\n",
    "    conn.settimeout(None)\n",
    "    request = str(request)\n",
    "    \n",
    "    response = web_page(request)\n",
    "    conn.send('HTTP/1.1 200 OK\\n')\n",
    "    conn.send('Content-Type: text/html\\n')\n",
    "    conn.send('Connection: close\\n\\n')\n",
    "    conn.sendall(response)\n",
    "    \n",
    "    conn.close()"
   ]
  },
  {
   "cell_type": "code",
   "execution_count": null,
   "metadata": {},
   "outputs": [],
   "source": [
    "# client\n",
    "while True:\n",
    "    try:\n",
    "        request = conn.recv(1024)\n",
    "        request = str(request)\n",
    "\n",
    "        response = web_page(request)\n",
    "        conn.send('HTTP/1.1 200 OK\\n')\n",
    "        conn.send('Content-Type: text/html\\n')\n",
    "        conn.send('Connection: close\\n\\n')\n",
    "        conn.sendall(response)\n",
    "    except:\n",
    "        address = 127.0.0.1\n",
    "        s = socket.socket(socket.AF_INET, socket.SOCK_STREAM)\n",
    "        s.connect((address, 80))"
   ]
  }
 ],
 "metadata": {
  "kernelspec": {
   "display_name": "Python 3",
   "language": "python",
   "name": "python3"
  },
  "language_info": {
   "codemirror_mode": {
    "name": "ipython",
    "version": 3
   },
   "file_extension": ".py",
   "mimetype": "text/x-python",
   "name": "python",
   "nbconvert_exporter": "python",
   "pygments_lexer": "ipython3",
   "version": "3.8.5"
  }
 },
 "nbformat": 4,
 "nbformat_minor": 4
}
